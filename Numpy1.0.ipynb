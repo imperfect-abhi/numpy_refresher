{
 "cells": [
  {
   "cell_type": "markdown",
   "id": "f6a8f140",
   "metadata": {},
   "source": [
    "## Numpy\n",
    "\n",
    "A fundamental package for scientific computing in Python. At the core is an **ndarray** object.\n",
    "\n",
    "**Difference between NumPy array and standard python sequences:**\n",
    "1. NumPy arrays have fixed size at creation. Changing the size will delete the original and create a new array. Unlike Python lists which grows dynamically.\n",
    "\n",
    "2. The elements of the Numpy array are all of same data types and thus will be of same size in the memory. The exception: one can have arrays of (**Python, including NumPy**) objects, thereby allowing arrays of different sized elements.\n",
    "\n",
    "3. Facilitates advanced mathematical and other types of operations on large numbers of data. More efficient in terms of execution time as well as code.\n",
    "\n",
    "4. Seamless adoption of NumPy arrays across python packages leveraged in scientifc and mathematical computing makes it very useful to learn about NumPy arrays.\n",
    "\n",
    "\n",
    "> **Example 1:** For just element wise multiplication, NumPy gives us simple one line of code which is speedily executed by pre-compiled C code.<center>c = a*b ; where c is an element-wise multiplication of two lists a and b.</center>\n",
    "\n",
    "> Element-wise operation is the default mode in NumPy. **Broadcasting** is the term for this. In NumPy, all operations not just arithmetic operations, but logical, bit-wise, functional, etc., behave in this implicit element-by-element fashion, i.e., they broadcast.\n",
    "\n",
    "\n",
    "### Why is NumPy fast?\n",
    "**Vectorization** is absence of any explicit looping, indexing etc. in code. These things are occuring but in behind-the-scenes. The advantages of a vectorized code are:\n",
    "1. More concise and easier to read.\n",
    "2. Fewer lines of code so generally fewer bugs.\n",
    "3. Code has a close resemblance to standard mathematical notation.\n",
    "4. Eliminates the for loop litter in our code to a large extent.\n",
    "\n",
    "\n",
    "### Who else uses NumPy?\n",
    "NumPy fully supports **object-oriented approach**. For example, **ndarray** is a class, possessing numerous methods and attributes. Many of its mehtods are mirrored by functions in the outermost NumPy namespace, allowing us user to code in whichever parqdigm we prefer."
   ]
  },
  {
   "cell_type": "markdown",
   "id": "458bc6a5",
   "metadata": {},
   "source": [
    "## Check environment variables"
   ]
  },
  {
   "cell_type": "code",
   "execution_count": 4,
   "id": "7e91f2ba",
   "metadata": {},
   "outputs": [
    {
     "name": "stdout",
     "output_type": "stream",
     "text": [
      "The PYTHONPATH is: ['/Library/Frameworks/Python.framework/Versions/3.11/bin', '/usr/local/bin', '/System/Cryptexes/App/usr/bin', '/usr/bin', '/bin', '/usr/sbin', '/sbin']\n"
     ]
    }
   ],
   "source": [
    "import os\n",
    "PYTHONPATH = os.environ['PATH'].split(os.pathsep)\n",
    "print(\"The PYTHONPATH is:\", PYTHONPATH)"
   ]
  },
  {
   "cell_type": "code",
   "execution_count": 5,
   "id": "b1e46cb6",
   "metadata": {},
   "outputs": [
    {
     "name": "stdout",
     "output_type": "stream",
     "text": [
      "The Path is: ['/Library/Frameworks/Python.framework/Versions/3.11/bin', '/usr/local/bin', '/System/Cryptexes/App/usr/bin', '/usr/bin', '/bin', '/usr/sbin', '/sbin']\n"
     ]
    }
   ],
   "source": [
    "PATH = os.environ['PATH'].split(os.pathsep)\n",
    "print(\"The Path is:\", PATH)"
   ]
  },
  {
   "cell_type": "code",
   "execution_count": null,
   "id": "a4bdda5f",
   "metadata": {},
   "outputs": [],
   "source": []
  }
 ],
 "metadata": {
  "kernelspec": {
   "display_name": "Python 3 (ipykernel)",
   "language": "python",
   "name": "python3"
  },
  "language_info": {
   "codemirror_mode": {
    "name": "ipython",
    "version": 3
   },
   "file_extension": ".py",
   "mimetype": "text/x-python",
   "name": "python",
   "nbconvert_exporter": "python",
   "pygments_lexer": "ipython3",
   "version": "3.11.1"
  }
 },
 "nbformat": 4,
 "nbformat_minor": 5
}
