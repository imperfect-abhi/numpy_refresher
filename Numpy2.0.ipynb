{
 "cells": [
  {
   "cell_type": "markdown",
   "id": "c989e6ea",
   "metadata": {},
   "source": [
    "## Quickstart tutorial\n",
    "\n",
    "### Basics\n",
    "The main object of **NumPy** is the homogeneous multidimensional array. It is a table of elements(usually numbers), all of the same type, indexed by a tuple of non-negative integers. In NumPy, dimensions are called axes.\n",
    "\n",
    "NumPy's array class is called **ndarray**. The more important attributes of **ndarray object** are:\n",
    "1. **ndarray.ndim**  the number of axes(dimensions) of the array.\n",
    "2. **ndarray.shape**  the dimensions of the array. A tuple of integers containing (rows, columns).\n",
    "3. **ndarray.size**  the total number of elements in the array. This is equal to the product of the elements of the shape.\n",
    "4. **ndarray.dtype**  an object describing the type of elements in the array.\n",
    "5. **ndarray.itemsize**  the size in bytes of each element of the array.\n",
    "6. **ndarray.data**  the buffer containing the actual elements of the array. Normally, we don't need to use this attribute because we will access the elements in an array using indexing facilities."
   ]
  },
  {
   "cell_type": "markdown",
   "id": "45755e64",
   "metadata": {},
   "source": [
    "### Examples"
   ]
  },
  {
   "cell_type": "code",
   "execution_count": 1,
   "id": "410a673d",
   "metadata": {},
   "outputs": [
    {
     "data": {
      "text/plain": [
       "array([[ 0,  1,  2],\n",
       "       [ 3,  4,  5],\n",
       "       [ 6,  7,  8],\n",
       "       [ 9, 10, 11],\n",
       "       [12, 13, 14]])"
      ]
     },
     "execution_count": 1,
     "metadata": {},
     "output_type": "execute_result"
    }
   ],
   "source": [
    "import numpy as np\n",
    "a = np.arange(15).reshape(5,3)\n",
    "a"
   ]
  },
  {
   "cell_type": "code",
   "execution_count": 2,
   "id": "97f7b79e",
   "metadata": {},
   "outputs": [
    {
     "data": {
      "text/plain": [
       "2"
      ]
     },
     "execution_count": 2,
     "metadata": {},
     "output_type": "execute_result"
    }
   ],
   "source": [
    "a.ndim"
   ]
  },
  {
   "cell_type": "code",
   "execution_count": 3,
   "id": "6fc3189d",
   "metadata": {},
   "outputs": [
    {
     "data": {
      "text/plain": [
       "(5, 3)"
      ]
     },
     "execution_count": 3,
     "metadata": {},
     "output_type": "execute_result"
    }
   ],
   "source": [
    "a.shape"
   ]
  },
  {
   "cell_type": "code",
   "execution_count": 4,
   "id": "12cb0f09",
   "metadata": {},
   "outputs": [
    {
     "data": {
      "text/plain": [
       "15"
      ]
     },
     "execution_count": 4,
     "metadata": {},
     "output_type": "execute_result"
    }
   ],
   "source": [
    "a.size"
   ]
  },
  {
   "cell_type": "code",
   "execution_count": 5,
   "id": "56d2f31e",
   "metadata": {},
   "outputs": [
    {
     "data": {
      "text/plain": [
       "dtype('int64')"
      ]
     },
     "execution_count": 5,
     "metadata": {},
     "output_type": "execute_result"
    }
   ],
   "source": [
    "a.dtype"
   ]
  },
  {
   "cell_type": "code",
   "execution_count": 6,
   "id": "155626fe",
   "metadata": {},
   "outputs": [
    {
     "data": {
      "text/plain": [
       "8"
      ]
     },
     "execution_count": 6,
     "metadata": {},
     "output_type": "execute_result"
    }
   ],
   "source": [
    "a.itemsize"
   ]
  },
  {
   "cell_type": "code",
   "execution_count": 7,
   "id": "37db34a7",
   "metadata": {},
   "outputs": [
    {
     "data": {
      "text/plain": [
       "<memory at 0x1085bb100>"
      ]
     },
     "execution_count": 7,
     "metadata": {},
     "output_type": "execute_result"
    }
   ],
   "source": [
    "a.data"
   ]
  },
  {
   "cell_type": "code",
   "execution_count": 8,
   "id": "aed63ebf",
   "metadata": {},
   "outputs": [
    {
     "data": {
      "text/plain": [
       "<memory at 0x1098802b0>"
      ]
     },
     "execution_count": 8,
     "metadata": {},
     "output_type": "execute_result"
    }
   ],
   "source": [
    "a.data"
   ]
  },
  {
   "cell_type": "code",
   "execution_count": 9,
   "id": "14317454",
   "metadata": {},
   "outputs": [
    {
     "data": {
      "text/plain": [
       "numpy.ndarray"
      ]
     },
     "execution_count": 9,
     "metadata": {},
     "output_type": "execute_result"
    }
   ],
   "source": [
    "type(a)"
   ]
  },
  {
   "cell_type": "code",
   "execution_count": 10,
   "id": "8301ad3a",
   "metadata": {},
   "outputs": [],
   "source": [
    "b = np.array([6, 7, 8])"
   ]
  },
  {
   "cell_type": "code",
   "execution_count": 11,
   "id": "bedd86bb",
   "metadata": {},
   "outputs": [
    {
     "data": {
      "text/plain": [
       "array([6, 7, 8])"
      ]
     },
     "execution_count": 11,
     "metadata": {},
     "output_type": "execute_result"
    }
   ],
   "source": [
    "b"
   ]
  },
  {
   "cell_type": "code",
   "execution_count": 12,
   "id": "0a64d028",
   "metadata": {},
   "outputs": [
    {
     "data": {
      "text/plain": [
       "numpy.ndarray"
      ]
     },
     "execution_count": 12,
     "metadata": {},
     "output_type": "execute_result"
    }
   ],
   "source": [
    "type(b)"
   ]
  },
  {
   "cell_type": "markdown",
   "id": "2ea175ac",
   "metadata": {},
   "source": [
    "### Array Creation\n",
    "\n",
    "\n",
    "**There are several ways to create arrays:**"
   ]
  },
  {
   "cell_type": "markdown",
   "id": "546f459a",
   "metadata": {},
   "source": [
    "Creating an array from a regular python list or tuple using the array function. The type of the resulting array is deduced from the type of elements in the sequences."
   ]
  },
  {
   "cell_type": "code",
   "execution_count": 13,
   "id": "4ab7b50d",
   "metadata": {},
   "outputs": [
    {
     "data": {
      "text/plain": [
       "array([2, 3, 4])"
      ]
     },
     "execution_count": 13,
     "metadata": {},
     "output_type": "execute_result"
    }
   ],
   "source": [
    "aa = np.array([2, 3, 4])\n",
    "aa"
   ]
  },
  {
   "cell_type": "code",
   "execution_count": 14,
   "id": "ca48222c",
   "metadata": {},
   "outputs": [
    {
     "data": {
      "text/plain": [
       "dtype('int64')"
      ]
     },
     "execution_count": 14,
     "metadata": {},
     "output_type": "execute_result"
    }
   ],
   "source": [
    "aa.dtype"
   ]
  },
  {
   "cell_type": "code",
   "execution_count": 15,
   "id": "733daff9",
   "metadata": {},
   "outputs": [
    {
     "data": {
      "text/plain": [
       "array(['1.2', '3.5', 'abc'], dtype='<U32')"
      ]
     },
     "execution_count": 15,
     "metadata": {},
     "output_type": "execute_result"
    }
   ],
   "source": [
    "bb = np.array([1.2, 3.5, \"abc\"])\n",
    "bb"
   ]
  },
  {
   "cell_type": "markdown",
   "id": "1505e077",
   "metadata": {},
   "source": [
    "**U32** is a string data type in Python.U refers to unicode strings."
   ]
  },
  {
   "cell_type": "code",
   "execution_count": 16,
   "id": "82179cf6",
   "metadata": {},
   "outputs": [
    {
     "data": {
      "text/plain": [
       "array([1.2, 3.5, 4.1])"
      ]
     },
     "execution_count": 16,
     "metadata": {},
     "output_type": "execute_result"
    }
   ],
   "source": [
    "cc = np.array([1.2, 3.5, 4.1])\n",
    "cc"
   ]
  },
  {
   "cell_type": "code",
   "execution_count": 17,
   "id": "88c67415",
   "metadata": {},
   "outputs": [
    {
     "data": {
      "text/plain": [
       "dtype('float64')"
      ]
     },
     "execution_count": 17,
     "metadata": {},
     "output_type": "execute_result"
    }
   ],
   "source": [
    "cc.dtype"
   ]
  },
  {
   "cell_type": "markdown",
   "id": "f6125013",
   "metadata": {},
   "source": [
    "A frequrent error consists in calling **arrays** with multiple numeric arguments, rather than providing a single list of numbers as an argument.<br>\n",
    "    a = np.array(1, 2, 3, 4) --- **Wrong**<br>\n",
    "    a = np.array( [1, 2, 3, 4] ) --- **Right**"
   ]
  },
  {
   "cell_type": "markdown",
   "id": "b678406b",
   "metadata": {},
   "source": [
    "**Array** transforms sequences of sequences into two-dimensional arrays, sequences of sequences of sequences into three-dimensional arrays and so on."
   ]
  },
  {
   "cell_type": "code",
   "execution_count": 18,
   "id": "9a9f06f3",
   "metadata": {},
   "outputs": [
    {
     "data": {
      "text/plain": [
       "array([[1.5, 2. , 3. ],\n",
       "       [4. , 5. , 6. ]])"
      ]
     },
     "execution_count": 18,
     "metadata": {},
     "output_type": "execute_result"
    }
   ],
   "source": [
    "bbb = np.array([(1.5, 2, 3), (4, 5, 6)])\n",
    "bbb"
   ]
  },
  {
   "cell_type": "code",
   "execution_count": 19,
   "id": "69195f09",
   "metadata": {},
   "outputs": [
    {
     "data": {
      "text/plain": [
       "2"
      ]
     },
     "execution_count": 19,
     "metadata": {},
     "output_type": "execute_result"
    }
   ],
   "source": [
    "bbb.ndim"
   ]
  },
  {
   "cell_type": "code",
   "execution_count": 20,
   "id": "87d83007",
   "metadata": {},
   "outputs": [
    {
     "data": {
      "text/plain": [
       "(2, 3)"
      ]
     },
     "execution_count": 20,
     "metadata": {},
     "output_type": "execute_result"
    }
   ],
   "source": [
    "bbb.shape"
   ]
  },
  {
   "cell_type": "code",
   "execution_count": 21,
   "id": "5a3c0aa6",
   "metadata": {},
   "outputs": [
    {
     "data": {
      "text/plain": [
       "array([[[ 1.5,  2. ,  3. ],\n",
       "        [ 4. ,  5. ,  6. ]],\n",
       "\n",
       "       [[ 3. ,  1. ,  7. ],\n",
       "        [11. ,  9.1,  3.7]]])"
      ]
     },
     "execution_count": 21,
     "metadata": {},
     "output_type": "execute_result"
    }
   ],
   "source": [
    "bbbb = np.array([[(1.5, 2, 3), (4, 5, 6)],[(3, 1, 7), (11, 9.1, 3.7)]])\n",
    "bbbb"
   ]
  },
  {
   "cell_type": "code",
   "execution_count": 22,
   "id": "c0415f08",
   "metadata": {},
   "outputs": [
    {
     "data": {
      "text/plain": [
       "3"
      ]
     },
     "execution_count": 22,
     "metadata": {},
     "output_type": "execute_result"
    }
   ],
   "source": [
    "bbbb.ndim"
   ]
  },
  {
   "cell_type": "code",
   "execution_count": 23,
   "id": "1c95cf04",
   "metadata": {},
   "outputs": [
    {
     "data": {
      "text/plain": [
       "(2, 2, 3)"
      ]
     },
     "execution_count": 23,
     "metadata": {},
     "output_type": "execute_result"
    }
   ],
   "source": [
    "bbbb.shape"
   ]
  },
  {
   "cell_type": "markdown",
   "id": "09ac061e",
   "metadata": {},
   "source": [
    "**The type of the array can also be specified at creation time.**"
   ]
  },
  {
   "cell_type": "code",
   "execution_count": 24,
   "id": "53580d9c",
   "metadata": {},
   "outputs": [
    {
     "data": {
      "text/plain": [
       "array([[1.+0.j, 2.+0.j],\n",
       "       [3.+0.j, 4.+0.j]])"
      ]
     },
     "execution_count": 24,
     "metadata": {},
     "output_type": "execute_result"
    }
   ],
   "source": [
    "ccc = np.array([[1, 2], [3,4]], dtype =  complex)\n",
    "ccc"
   ]
  },
  {
   "cell_type": "markdown",
   "id": "0df7d644",
   "metadata": {},
   "source": [
    "Often the elements of an array are originally unknown but it's size is known. **Hence, NumPy offers several functions to create arrays with initial placeholder content.** These minimize the necessity of growing arrays, an expensive operation.<br>\n",
    "The function **zeros, ones, empty** can be seen in the example below. the default data type for these is **float64**"
   ]
  },
  {
   "cell_type": "code",
   "execution_count": 25,
   "id": "2e74fd03",
   "metadata": {},
   "outputs": [
    {
     "data": {
      "text/plain": [
       "array([[0., 0., 0., 0.],\n",
       "       [0., 0., 0., 0.],\n",
       "       [0., 0., 0., 0.]])"
      ]
     },
     "execution_count": 25,
     "metadata": {},
     "output_type": "execute_result"
    }
   ],
   "source": [
    "np.zeros((3,4)) # creates an array full of zeros"
   ]
  },
  {
   "cell_type": "code",
   "execution_count": 26,
   "id": "74dd5f86",
   "metadata": {},
   "outputs": [
    {
     "data": {
      "text/plain": [
       "array([[1, 1, 1, 1, 1],\n",
       "       [1, 1, 1, 1, 1]], dtype=int16)"
      ]
     },
     "execution_count": 26,
     "metadata": {},
     "output_type": "execute_result"
    }
   ],
   "source": [
    "np.ones((2,5), dtype = np.int16) # creates an array full of ones."
   ]
  },
  {
   "cell_type": "code",
   "execution_count": 27,
   "id": "a6768605",
   "metadata": {},
   "outputs": [
    {
     "data": {
      "text/plain": [
       "array([[1.5, 2. , 3. ],\n",
       "       [4. , 5. , 6. ]])"
      ]
     },
     "execution_count": 27,
     "metadata": {},
     "output_type": "execute_result"
    }
   ],
   "source": [
    "np.empty((2,3))  # creates an array whose initial content is random and depends on the state of the memory."
   ]
  },
  {
   "cell_type": "markdown",
   "id": "216f9c3c",
   "metadata": {},
   "source": [
    "To create sequences of numbers, NumPy provides a function analogous to **range** that returns arrays instead of lists."
   ]
  },
  {
   "cell_type": "code",
   "execution_count": 28,
   "id": "676a0c65",
   "metadata": {},
   "outputs": [
    {
     "data": {
      "text/plain": [
       "array([10, 15, 20, 25])"
      ]
     },
     "execution_count": 28,
     "metadata": {},
     "output_type": "execute_result"
    }
   ],
   "source": [
    "np.arange(10, 30, 5)"
   ]
  },
  {
   "cell_type": "code",
   "execution_count": 29,
   "id": "0e76ddc6",
   "metadata": {},
   "outputs": [
    {
     "data": {
      "text/plain": [
       "array([0. , 0.3, 0.6, 0.9, 1.2, 1.5, 1.8])"
      ]
     },
     "execution_count": 29,
     "metadata": {},
     "output_type": "execute_result"
    }
   ],
   "source": [
    "np.arange(0, 2, 0.3)"
   ]
  },
  {
   "cell_type": "markdown",
   "id": "193dec8e",
   "metadata": {},
   "source": [
    "When **arange** is used with floating point arguments, it is generally not possible to predict the number of elements obtained, due to the finite floating point precision. For this reason, it is usually better to use **linspace** function, that uses an argument about the number of elements we want, instead of the step."
   ]
  },
  {
   "cell_type": "code",
   "execution_count": 30,
   "id": "3ad4fbb0",
   "metadata": {},
   "outputs": [
    {
     "data": {
      "text/plain": [
       "array([0.  , 0.25, 0.5 , 0.75, 1.  , 1.25, 1.5 , 1.75, 2.  ])"
      ]
     },
     "execution_count": 30,
     "metadata": {},
     "output_type": "execute_result"
    }
   ],
   "source": [
    "np.linspace(0, 2, 9) # 9 numbers between 0 to 2."
   ]
  },
  {
   "cell_type": "code",
   "execution_count": 31,
   "id": "24a12df9",
   "metadata": {},
   "outputs": [],
   "source": [
    "from numpy import pi\n",
    "x = np.linspace(0, 2*pi, 100) # useful to evaluate function at lots of points"
   ]
  },
  {
   "cell_type": "code",
   "execution_count": 32,
   "id": "1bd33f2b",
   "metadata": {},
   "outputs": [],
   "source": [
    "f = np.sin(x)"
   ]
  },
  {
   "cell_type": "markdown",
   "id": "17480100",
   "metadata": {},
   "source": [
    "**Miscellaneous functions: zeros_like, ones_like, empty_like, np.random.RandomState.rand, randn, fromfunction, fromfile**"
   ]
  },
  {
   "cell_type": "code",
   "execution_count": 33,
   "id": "34cd6b3f",
   "metadata": {},
   "outputs": [
    {
     "data": {
      "text/plain": [
       "array([[0.+0.j, 0.+0.j],\n",
       "       [0.+0.j, 0.+0.j]])"
      ]
     },
     "execution_count": 33,
     "metadata": {},
     "output_type": "execute_result"
    }
   ],
   "source": [
    "np.zeros_like(ccc) # returns an array of zeros with same shape and type as a given array."
   ]
  },
  {
   "cell_type": "code",
   "execution_count": 34,
   "id": "c9ad836b",
   "metadata": {},
   "outputs": [
    {
     "data": {
      "text/plain": [
       "array([[[1., 1., 1.],\n",
       "        [1., 1., 1.]],\n",
       "\n",
       "       [[1., 1., 1.],\n",
       "        [1., 1., 1.]]])"
      ]
     },
     "execution_count": 34,
     "metadata": {},
     "output_type": "execute_result"
    }
   ],
   "source": [
    "np.ones_like(bbbb) # returns an array of ones with the same shape and type as a given array."
   ]
  },
  {
   "cell_type": "code",
   "execution_count": 36,
   "id": "9cfc8eb6",
   "metadata": {},
   "outputs": [
    {
     "data": {
      "text/plain": [
       "array([[0.25+0.5j, 0.75+1.j ],\n",
       "       [1.25+1.5j, 1.75+2.j ]])"
      ]
     },
     "execution_count": 36,
     "metadata": {},
     "output_type": "execute_result"
    }
   ],
   "source": [
    "np.empty_like(ccc) # returns a new array of same shape and type as a given array "
   ]
  },
  {
   "cell_type": "code",
   "execution_count": 37,
   "id": "83da8b26",
   "metadata": {},
   "outputs": [
    {
     "data": {
      "text/plain": [
       "array([0, 1, 2, 3, 4, 5, 6, 7, 8])"
      ]
     },
     "execution_count": 37,
     "metadata": {},
     "output_type": "execute_result"
    }
   ],
   "source": [
    "np.arange(0, 9, 1, dtype = int)"
   ]
  },
  {
   "cell_type": "markdown",
   "id": "ed00b77e",
   "metadata": {},
   "source": [
    "The in-built **range** function of Python generates integers that have arbitrary size whereas, **arange** produces numpy.int32 or numpy.int64 numbers."
   ]
  },
  {
   "cell_type": "code",
   "execution_count": 39,
   "id": "8b2ff032",
   "metadata": {},
   "outputs": [
    {
     "data": {
      "text/plain": [
       "array([[0., 0.],\n",
       "       [1., 1.]])"
      ]
     },
     "execution_count": 39,
     "metadata": {},
     "output_type": "execute_result"
    }
   ],
   "source": [
    " np.fromfunction(lambda i, j : i, (2,2), dtype = float) # constructs an array by executing a function over each\n",
    "                                                        #coordinate"
   ]
  },
  {
   "cell_type": "markdown",
   "id": "1f5be882",
   "metadata": {},
   "source": [
    "**np.fromfile** constructs an array from a data in a text or binary file."
   ]
  },
  {
   "cell_type": "markdown",
   "id": "60ef00ee",
   "metadata": {},
   "source": [
    "### Printing Arrays"
   ]
  },
  {
   "cell_type": "markdown",
   "id": "ac5de378",
   "metadata": {},
   "source": [
    "When an array is printed, NumPy displays it as a nested list:\n",
    "1. the last axis is printed from left to right.\n",
    "2. the second-to-last is printed from top to bottom.\n",
    "3. the rest are also printed from top to bottom, with each slice separated from the next by an empty line.\n",
    "\n",
    "**1-D arrays are printed as rows, 2-Ds as matrices and 3-Ds as lists of matrices.**"
   ]
  },
  {
   "cell_type": "code",
   "execution_count": 41,
   "id": "5e866265",
   "metadata": {},
   "outputs": [
    {
     "data": {
      "text/plain": [
       "array([0, 1, 2, 3, 4, 5])"
      ]
     },
     "execution_count": 41,
     "metadata": {},
     "output_type": "execute_result"
    }
   ],
   "source": [
    "a = np.arange(6)\n",
    "a"
   ]
  },
  {
   "cell_type": "code",
   "execution_count": 43,
   "id": "640d6d0f",
   "metadata": {},
   "outputs": [
    {
     "data": {
      "text/plain": [
       "array([[ 0,  1,  2],\n",
       "       [ 3,  4,  5],\n",
       "       [ 6,  7,  8],\n",
       "       [ 9, 10, 11]])"
      ]
     },
     "execution_count": 43,
     "metadata": {},
     "output_type": "execute_result"
    }
   ],
   "source": [
    "b = np.arange(12).reshape(4,3)\n",
    "b"
   ]
  },
  {
   "cell_type": "code",
   "execution_count": 46,
   "id": "e7e94d9c",
   "metadata": {},
   "outputs": [
    {
     "data": {
      "text/plain": [
       "array([[[[ 0,  1,  2],\n",
       "         [ 3,  4,  5],\n",
       "         [ 6,  7,  8],\n",
       "         [ 9, 10, 11]],\n",
       "\n",
       "        [[12, 13, 14],\n",
       "         [15, 16, 17],\n",
       "         [18, 19, 20],\n",
       "         [21, 22, 23]],\n",
       "\n",
       "        [[24, 25, 26],\n",
       "         [27, 28, 29],\n",
       "         [30, 31, 32],\n",
       "         [33, 34, 35]]],\n",
       "\n",
       "\n",
       "       [[[36, 37, 38],\n",
       "         [39, 40, 41],\n",
       "         [42, 43, 44],\n",
       "         [45, 46, 47]],\n",
       "\n",
       "        [[48, 49, 50],\n",
       "         [51, 52, 53],\n",
       "         [54, 55, 56],\n",
       "         [57, 58, 59]],\n",
       "\n",
       "        [[60, 61, 62],\n",
       "         [63, 64, 65],\n",
       "         [66, 67, 68],\n",
       "         [69, 70, 71]]]])"
      ]
     },
     "execution_count": 46,
     "metadata": {},
     "output_type": "execute_result"
    }
   ],
   "source": [
    "c = np.arange(72).reshape(2,3,4,3)\n",
    "c"
   ]
  },
  {
   "cell_type": "markdown",
   "id": "90c0c6eb",
   "metadata": {},
   "source": [
    "If an array is too large to be printed, NumPy automatically skips the central part of the array and onluy prints the corners."
   ]
  },
  {
   "cell_type": "code",
   "execution_count": 47,
   "id": "69c473f5",
   "metadata": {},
   "outputs": [
    {
     "name": "stdout",
     "output_type": "stream",
     "text": [
      "[   0    1    2 ... 9997 9998 9999]\n"
     ]
    }
   ],
   "source": [
    "print(np.arange(10000))"
   ]
  },
  {
   "cell_type": "code",
   "execution_count": 48,
   "id": "afc1d39c",
   "metadata": {},
   "outputs": [
    {
     "name": "stdout",
     "output_type": "stream",
     "text": [
      "[[   0    1    2 ...    7    8    9]\n",
      " [  10   11   12 ...   17   18   19]\n",
      " [  20   21   22 ...   27   28   29]\n",
      " ...\n",
      " [9970 9971 9972 ... 9977 9978 9979]\n",
      " [9980 9981 9982 ... 9987 9988 9989]\n",
      " [9990 9991 9992 ... 9997 9998 9999]]\n"
     ]
    }
   ],
   "source": [
    "print(np.arange(10000).reshape(1000,10))"
   ]
  },
  {
   "cell_type": "markdown",
   "id": "69069924",
   "metadata": {},
   "source": [
    "To disbale this behaviour and force NumPy to print the entire array, you can chanhge the printing options using **set_printoptions** "
   ]
  },
  {
   "cell_type": "code",
   "execution_count": 50,
   "id": "943766eb",
   "metadata": {},
   "outputs": [],
   "source": [
    "import sys\n",
    "np.set_printoptions(threshold = sys.maxsize)"
   ]
  },
  {
   "cell_type": "markdown",
   "id": "cdec69c0",
   "metadata": {},
   "source": [
    "### Basic Operations"
   ]
  },
  {
   "cell_type": "markdown",
   "id": "720fc795",
   "metadata": {},
   "source": [
    "Arithmetic operators on arrays apply **elementwise**. A new array is cfreated and filled with the result."
   ]
  },
  {
   "cell_type": "code",
   "execution_count": 52,
   "id": "3fcc5533",
   "metadata": {},
   "outputs": [],
   "source": [
    "a = np.array([20,30,40,50])\n",
    "b = np.arange(4)"
   ]
  },
  {
   "cell_type": "code",
   "execution_count": 53,
   "id": "511db67e",
   "metadata": {},
   "outputs": [
    {
     "data": {
      "text/plain": [
       "array([20, 29, 38, 47])"
      ]
     },
     "execution_count": 53,
     "metadata": {},
     "output_type": "execute_result"
    }
   ],
   "source": [
    "c = a - b\n",
    "c"
   ]
  },
  {
   "cell_type": "code",
   "execution_count": 54,
   "id": "741260c9",
   "metadata": {},
   "outputs": [
    {
     "data": {
      "text/plain": [
       "array([0, 1, 4, 9])"
      ]
     },
     "execution_count": 54,
     "metadata": {},
     "output_type": "execute_result"
    }
   ],
   "source": [
    "b**2"
   ]
  },
  {
   "cell_type": "code",
   "execution_count": 55,
   "id": "66240e30",
   "metadata": {},
   "outputs": [
    {
     "data": {
      "text/plain": [
       "array([ 9.12945251, -9.88031624,  7.4511316 , -2.62374854])"
      ]
     },
     "execution_count": 55,
     "metadata": {},
     "output_type": "execute_result"
    }
   ],
   "source": [
    "10*np.sin(a)"
   ]
  },
  {
   "cell_type": "code",
   "execution_count": 56,
   "id": "041980a8",
   "metadata": {},
   "outputs": [
    {
     "data": {
      "text/plain": [
       "array([ True,  True, False, False])"
      ]
     },
     "execution_count": 56,
     "metadata": {},
     "output_type": "execute_result"
    }
   ],
   "source": [
    "a<35"
   ]
  },
  {
   "cell_type": "code",
   "execution_count": null,
   "id": "877e1459",
   "metadata": {},
   "outputs": [],
   "source": []
  }
 ],
 "metadata": {
  "kernelspec": {
   "display_name": "Python 3 (ipykernel)",
   "language": "python",
   "name": "python3"
  },
  "language_info": {
   "codemirror_mode": {
    "name": "ipython",
    "version": 3
   },
   "file_extension": ".py",
   "mimetype": "text/x-python",
   "name": "python",
   "nbconvert_exporter": "python",
   "pygments_lexer": "ipython3",
   "version": "3.11.1"
  }
 },
 "nbformat": 4,
 "nbformat_minor": 5
}
